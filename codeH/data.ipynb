{
 "cells": [
  {
   "cell_type": "code",
   "execution_count": 2,
   "metadata": {},
   "outputs": [],
   "source": [
    "import cv2\n",
    "import numpy as np\n",
    "import os\n",
    "import pandas as ps\n",
    "import torch\n",
    "from torch.utils.data import Dataset\n",
    "import matplotlib.pyplot as plt\n",
    "\n",
    "from sklearn.model_selection import train_test_split\n",
    "import torch.nn as nn\n",
    "from torch import optim\n",
    "from torch.utils.data import ConcatDataset, DataLoader, Subset, Dataset\n",
    "# This is for the progress bar.\n",
    "from tqdm.auto import tqdm\n",
    "from torch.nn import functional as F\n",
    "from torchvision import transforms\n",
    "from torchvision.utils import save_image"
   ]
  },
  {
   "cell_type": "code",
   "execution_count": 3,
   "metadata": {},
   "outputs": [
    {
     "name": "stdout",
     "output_type": "stream",
     "text": [
      "057_N_60.png\n"
     ]
    }
   ],
   "source": [
    "#文件夹位置加载\n",
    "train_folder_path = '../data/FAZ/Domain1/train/imgs'\n",
    "mask_folder_path = '../data/FAZ/Domain1/train/mask'\n",
    "test_folder_path='../data/FAZ/Domain1/test/imgs'\n",
    "train_files = os.listdir(train_folder_path)\n",
    "mask_files= os.listdir(mask_folder_path)\n",
    "print(train_files[0])"
   ]
  },
  {
   "cell_type": "code",
   "execution_count": 4,
   "metadata": {},
   "outputs": [],
   "source": [
    "# 定义数据集\n",
    "\n",
    "transform=transforms.Compose([\n",
    "    transforms.ToTensor()\n",
    "])\n",
    "class MyDataset(Dataset):\n",
    "\n",
    "    def __init__(self,train_files = None,test_files = None):\n",
    "        super(MyDataset).__init__()\n",
    "        self.train_files =train_files\n",
    "        if train_files != None:\n",
    "            self.train_files = train_files\n",
    "        self.test_files =test_files\n",
    "        if test_files != None:\n",
    "            self.test_files = test_files\n",
    "        print(f\"One sample\",self.train_files[0])\n",
    "    \n",
    "    def __len__(self):\n",
    "        return len(self.train_files)\n",
    "  \n",
    "    def __getitem__(self,idx):\n",
    "        fname = self.train_files[idx]\n",
    "        im = cv2.imread(os.path.join(train_folder_path,fname))\n",
    "        #im = self.data[idx]\n",
    "        mname = self.test_files[idx]\n",
    "        segemnt_im = cv2.imread(os.path.join(mask_folder_path,mname))\n",
    "        return transform(im),transform(segemnt_im)"
   ]
  },
  {
   "cell_type": "code",
   "execution_count": 6,
   "metadata": {},
   "outputs": [
    {
     "name": "stdout",
     "output_type": "stream",
     "text": [
      "torch.Size([2, 3, 256, 256])\n"
     ]
    }
   ],
   "source": [
    "#定义网络\n",
    "\"\"\" Parts of the U-Net model \"\"\"\n",
    "\n",
    "class Conv_Block(nn.Module):\n",
    "    def __init__(self,in_channel,out_channel):\n",
    "        super(Conv_Block, self).__init__()\n",
    "        self.layer=nn.Sequential(\n",
    "            nn.Conv2d(in_channel,out_channel,3,1,1,padding_mode='reflect',bias=False),\n",
    "            nn.BatchNorm2d(out_channel),\n",
    "            nn.Dropout2d(0.3),\n",
    "            nn.LeakyReLU(),\n",
    "            nn.Conv2d(out_channel, out_channel, 3, 1, 1, padding_mode='reflect', bias=False),\n",
    "            nn.BatchNorm2d(out_channel),\n",
    "            nn.Dropout2d(0.3),\n",
    "            nn.LeakyReLU()\n",
    "        )\n",
    "    def forward(self,x):\n",
    "        return self.layer(x)\n",
    "\n",
    "\n",
    "class DownSample(nn.Module):\n",
    "    def __init__(self,channel):\n",
    "        super(DownSample, self).__init__()\n",
    "        self.layer=nn.Sequential(\n",
    "            nn.Conv2d(channel,channel,3,2,1,padding_mode='reflect',bias=False),\n",
    "            nn.BatchNorm2d(channel),\n",
    "            nn.LeakyReLU()\n",
    "        )\n",
    "    def forward(self,x):\n",
    "        return self.layer(x)\n",
    "\n",
    "\n",
    "class UpSample(nn.Module):\n",
    "    def __init__(self,channel):\n",
    "        super(UpSample, self).__init__()\n",
    "        self.layer=nn.Conv2d(channel,channel//2,1,1)\n",
    "    def forward(self,x,feature_map):\n",
    "        up=F.interpolate(x,scale_factor=2,mode='nearest')\n",
    "        out=self.layer(up)\n",
    "        return torch.cat((out,feature_map),dim=1)\n",
    "\n",
    "\n",
    "class UNet(nn.Module):\n",
    "    def __init__(self):\n",
    "        super(UNet, self).__init__()\n",
    "        self.c1=Conv_Block(3,64)\n",
    "        self.d1=DownSample(64)\n",
    "        self.c2=Conv_Block(64,128)\n",
    "        self.d2=DownSample(128)\n",
    "        self.c3=Conv_Block(128,256)\n",
    "        self.d3=DownSample(256)\n",
    "        self.c4=Conv_Block(256,512)\n",
    "        self.d4=DownSample(512)\n",
    "        self.c5=Conv_Block(512,1024)\n",
    "        self.u1=UpSample(1024)\n",
    "        self.c6=Conv_Block(1024,512)\n",
    "        self.u2 = UpSample(512)\n",
    "        self.c7 = Conv_Block(512, 256)\n",
    "        self.u3 = UpSample(256)\n",
    "        self.c8 = Conv_Block(256, 128)\n",
    "        self.u4 = UpSample(128)\n",
    "        self.c9 = Conv_Block(128, 64)\n",
    "        self.out=nn.Conv2d(64,3,3,1,1)\n",
    "        self.Th=nn.Sigmoid()\n",
    "\n",
    "    def forward(self,x):\n",
    "        R1=self.c1(x)\n",
    "        R2=self.c2(self.d1(R1))\n",
    "        R3 = self.c3(self.d2(R2))\n",
    "        R4 = self.c4(self.d3(R3))\n",
    "        R5 = self.c5(self.d4(R4))\n",
    "        O1=self.c6(self.u1(R5,R4))\n",
    "        O2 = self.c7(self.u2(O1, R3))\n",
    "        O3 = self.c8(self.u3(O2, R2))\n",
    "        O4 = self.c9(self.u4(O3, R1))\n",
    "\n",
    "        return self.Th(self.out(O4))\n",
    "\n",
    "x=torch.randn(2,3,256,256)\n",
    "net=UNet()\n",
    "print(net(x).shape) "
   ]
  },
  {
   "cell_type": "code",
   "execution_count": 7,
   "metadata": {},
   "outputs": [
    {
     "name": "stdout",
     "output_type": "stream",
     "text": [
      "One sample 057_N_60.png\n",
      "len of the train_set is 195;\n",
      "len of the test_set is 49\n"
     ]
    }
   ],
   "source": [
    "dataset = MyDataset(train_files=train_files,test_files=mask_files)\n",
    "train_set,validation_set = train_test_split(dataset,test_size=0.2,random_state=377,shuffle=True)\n",
    "print(f'len of the train_set is {len(train_set)};\\nlen of the test_set is {len(validation_set)}')"
   ]
  },
  {
   "cell_type": "markdown",
   "metadata": {},
   "source": [
    "### Tarin"
   ]
  },
  {
   "cell_type": "code",
   "execution_count": 8,
   "metadata": {},
   "outputs": [
    {
     "name": "stdout",
     "output_type": "stream",
     "text": [
      "successful load weight！\n",
      "1-0-train_loss===>>0.04805968701839447\n",
      "1-5-train_loss===>>0.028662240132689476\n",
      "1-10-train_loss===>>0.03715529665350914\n",
      "1-15-train_loss===>>0.03193848580121994\n",
      "1-20-train_loss===>>0.023226846009492874\n",
      "1-25-train_loss===>>0.032953523099422455\n",
      "1-30-train_loss===>>0.02383861504495144\n"
     ]
    }
   ],
   "source": [
    "device=torch.device('cuda' if torch.cuda.is_available() else 'cpu')\n",
    "weight_path='params/unet.pth'\n",
    "data_path=r'data'\n",
    "save_path='train_image'\n",
    "\n",
    "data_loader=DataLoader(dataset,batch_size=8,shuffle=True)\n",
    "net=UNet().to(device)\n",
    "if os.path.exists(weight_path):\n",
    "    net.load_state_dict(torch.load(weight_path))\n",
    "    print('successful load weight！')\n",
    "else:\n",
    "    print('not successful load weight')\n",
    "\n",
    "opt=optim.Adam(net.parameters())\n",
    "loss_fun=nn.BCELoss()\n",
    "\n",
    "epoch=1\n",
    "for i in range(epoch):\n",
    "        for i,(image,segment_image) in enumerate(data_loader):\n",
    "            image, segment_image=image.to(device),segment_image.to(device)\n",
    "\n",
    "            out_image=net(image)\n",
    "            train_loss=loss_fun(out_image,segment_image)\n",
    "\n",
    "            opt.zero_grad()\n",
    "            train_loss.backward()\n",
    "            opt.step()\n",
    "\n",
    "            if i%5==0:\n",
    "                print(f'{epoch}-{i}-train_loss===>>{train_loss.item()}')\n",
    "\n",
    "            if i%50==0:\n",
    "                torch.save(net.state_dict(),weight_path)\n",
    "\n",
    "            _image=image[0]\n",
    "            _segment_image=segment_image[0]\n",
    "            _out_image=out_image[0]\n",
    "\n",
    "            img=torch.stack([_image,_segment_image,_out_image],dim=0)\n",
    "            save_image(img,f'{save_path}/{i}.png')\n",
    "\n",
    "        epoch+=1\n"
   ]
  }
 ],
 "metadata": {
  "kernelspec": {
   "display_name": "Python 3 (ipykernel)",
   "language": "python",
   "name": "python3"
  },
  "language_info": {
   "codemirror_mode": {
    "name": "ipython",
    "version": 3
   },
   "file_extension": ".py",
   "mimetype": "text/x-python",
   "name": "python",
   "nbconvert_exporter": "python",
   "pygments_lexer": "ipython3",
   "version": "3.8.18"
  }
 },
 "nbformat": 4,
 "nbformat_minor": 4
}
