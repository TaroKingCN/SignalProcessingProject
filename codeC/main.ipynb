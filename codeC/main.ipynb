{
 "cells": [
  {
   "cell_type": "code",
   "execution_count": 1,
   "id": "1f437c62-fc24-4458-9b76-4a3be74d5ed3",
   "metadata": {},
   "outputs": [],
   "source": [
    "import cv2\n",
    "import numpy as np\n",
    "import os\n",
    "import pandas as ps\n",
    "import torch\n",
    "from torch.utils.data import Dataset\n",
    "import matplotlib.pyplot as plt\n",
    "from PIL import Image\n",
    "from sklearn.model_selection import train_test_split\n",
    "import torch.nn as nn\n",
    "from torch import optim\n",
    "from torch.utils.data import ConcatDataset, DataLoader, Subset, Dataset\n",
    "# This is for the progress bar.\n",
    "from tqdm.auto import tqdm\n",
    "from torch.nn import functional as F\n",
    "from torchvision import transforms\n",
    "from torchvision.utils import save_image\n",
    "from model import UNet, MyDataset\n",
    "from torch.utils.data import random_split\n",
    "from my_metrics import calculate_metrics\n",
    "import csv"
   ]
  },
  {
   "cell_type": "code",
   "execution_count": 4,
   "id": "519094db-da93-40e4-8ab7-cd433d44d3d8",
   "metadata": {},
   "outputs": [
    {
     "name": "stdout",
     "output_type": "stream",
     "text": [
      "cuda\n",
      "model starts training\n",
      "\n"
     ]
    },
    {
     "data": {
      "application/vnd.jupyter.widget-view+json": {
       "model_id": "ea407963209d4d409aeafb1d99cde632",
       "version_major": 2,
       "version_minor": 0
      },
      "text/plain": [
       "Epoch 1/50:   0%|          | 0/49 [00:00<?, ?batch/s]"
      ]
     },
     "metadata": {},
     "output_type": "display_data"
    },
    {
     "name": "stdout",
     "output_type": "stream",
     "text": [
      "start to eval\n"
     ]
    },
    {
     "data": {
      "application/vnd.jupyter.widget-view+json": {
       "model_id": "107aab418ae7418e967ad5cbf1347ef1",
       "version_major": 2,
       "version_minor": 0
      },
      "text/plain": [
       "Epoch 2/50:   0%|          | 0/49 [00:00<?, ?batch/s]"
      ]
     },
     "metadata": {},
     "output_type": "display_data"
    },
    {
     "name": "stdout",
     "output_type": "stream",
     "text": [
      "start to eval\n"
     ]
    },
    {
     "data": {
      "application/vnd.jupyter.widget-view+json": {
       "model_id": "4e5a77e265234771bff005263a145e77",
       "version_major": 2,
       "version_minor": 0
      },
      "text/plain": [
       "Epoch 3/50:   0%|          | 0/49 [00:00<?, ?batch/s]"
      ]
     },
     "metadata": {},
     "output_type": "display_data"
    },
    {
     "name": "stdout",
     "output_type": "stream",
     "text": [
      "start to eval\n"
     ]
    },
    {
     "data": {
      "application/vnd.jupyter.widget-view+json": {
       "model_id": "7d8be04a8931402592aed934cabce101",
       "version_major": 2,
       "version_minor": 0
      },
      "text/plain": [
       "Epoch 4/50:   0%|          | 0/49 [00:00<?, ?batch/s]"
      ]
     },
     "metadata": {},
     "output_type": "display_data"
    },
    {
     "name": "stdout",
     "output_type": "stream",
     "text": [
      "start to eval\n"
     ]
    },
    {
     "data": {
      "application/vnd.jupyter.widget-view+json": {
       "model_id": "a015cc5235b843bbad47d39a0e132f82",
       "version_major": 2,
       "version_minor": 0
      },
      "text/plain": [
       "Epoch 5/50:   0%|          | 0/49 [00:00<?, ?batch/s]"
      ]
     },
     "metadata": {},
     "output_type": "display_data"
    },
    {
     "name": "stdout",
     "output_type": "stream",
     "text": [
      "start to eval\n"
     ]
    },
    {
     "data": {
      "application/vnd.jupyter.widget-view+json": {
       "model_id": "44bc37410ad4435b9a9aa435f6c1a2ee",
       "version_major": 2,
       "version_minor": 0
      },
      "text/plain": [
       "Epoch 6/50:   0%|          | 0/49 [00:00<?, ?batch/s]"
      ]
     },
     "metadata": {},
     "output_type": "display_data"
    },
    {
     "name": "stdout",
     "output_type": "stream",
     "text": [
      "start to eval\n"
     ]
    },
    {
     "data": {
      "application/vnd.jupyter.widget-view+json": {
       "model_id": "bd1cac556fb847afb975de65e3726622",
       "version_major": 2,
       "version_minor": 0
      },
      "text/plain": [
       "Epoch 7/50:   0%|          | 0/49 [00:00<?, ?batch/s]"
      ]
     },
     "metadata": {},
     "output_type": "display_data"
    },
    {
     "name": "stdout",
     "output_type": "stream",
     "text": [
      "start to eval\n"
     ]
    },
    {
     "data": {
      "application/vnd.jupyter.widget-view+json": {
       "model_id": "b47caf38b5d64fcdaef568fa017f5502",
       "version_major": 2,
       "version_minor": 0
      },
      "text/plain": [
       "Epoch 8/50:   0%|          | 0/49 [00:00<?, ?batch/s]"
      ]
     },
     "metadata": {},
     "output_type": "display_data"
    },
    {
     "name": "stdout",
     "output_type": "stream",
     "text": [
      "start to eval\n"
     ]
    },
    {
     "data": {
      "application/vnd.jupyter.widget-view+json": {
       "model_id": "100d8f7c0aee436cafcbad732e7a3ce3",
       "version_major": 2,
       "version_minor": 0
      },
      "text/plain": [
       "Epoch 9/50:   0%|          | 0/49 [00:00<?, ?batch/s]"
      ]
     },
     "metadata": {},
     "output_type": "display_data"
    },
    {
     "name": "stdout",
     "output_type": "stream",
     "text": [
      "start to eval\n"
     ]
    },
    {
     "data": {
      "application/vnd.jupyter.widget-view+json": {
       "model_id": "096d2ee030f8461d9188b4fa5fe667ed",
       "version_major": 2,
       "version_minor": 0
      },
      "text/plain": [
       "Epoch 10/50:   0%|          | 0/49 [00:00<?, ?batch/s]"
      ]
     },
     "metadata": {},
     "output_type": "display_data"
    },
    {
     "name": "stdout",
     "output_type": "stream",
     "text": [
      "start to eval\n"
     ]
    },
    {
     "data": {
      "application/vnd.jupyter.widget-view+json": {
       "model_id": "432cea46b8d64602824c0f1c7cb2c948",
       "version_major": 2,
       "version_minor": 0
      },
      "text/plain": [
       "Epoch 11/50:   0%|          | 0/49 [00:00<?, ?batch/s]"
      ]
     },
     "metadata": {},
     "output_type": "display_data"
    },
    {
     "name": "stdout",
     "output_type": "stream",
     "text": [
      "start to eval\n"
     ]
    },
    {
     "data": {
      "application/vnd.jupyter.widget-view+json": {
       "model_id": "2ea695c910234549b7dc1f2dda6e3b08",
       "version_major": 2,
       "version_minor": 0
      },
      "text/plain": [
       "Epoch 12/50:   0%|          | 0/49 [00:00<?, ?batch/s]"
      ]
     },
     "metadata": {},
     "output_type": "display_data"
    },
    {
     "name": "stdout",
     "output_type": "stream",
     "text": [
      "start to eval\n"
     ]
    },
    {
     "data": {
      "application/vnd.jupyter.widget-view+json": {
       "model_id": "611c5bc5cbfd4df8a02a565878641aff",
       "version_major": 2,
       "version_minor": 0
      },
      "text/plain": [
       "Epoch 13/50:   0%|          | 0/49 [00:00<?, ?batch/s]"
      ]
     },
     "metadata": {},
     "output_type": "display_data"
    },
    {
     "name": "stdout",
     "output_type": "stream",
     "text": [
      "start to eval\n"
     ]
    },
    {
     "data": {
      "application/vnd.jupyter.widget-view+json": {
       "model_id": "c09a60b48e714da6847bc7e023103f9f",
       "version_major": 2,
       "version_minor": 0
      },
      "text/plain": [
       "Epoch 14/50:   0%|          | 0/49 [00:00<?, ?batch/s]"
      ]
     },
     "metadata": {},
     "output_type": "display_data"
    },
    {
     "name": "stdout",
     "output_type": "stream",
     "text": [
      "start to eval\n"
     ]
    },
    {
     "data": {
      "application/vnd.jupyter.widget-view+json": {
       "model_id": "f2eb19c837c24f6f87b120b7caa49019",
       "version_major": 2,
       "version_minor": 0
      },
      "text/plain": [
       "Epoch 15/50:   0%|          | 0/49 [00:00<?, ?batch/s]"
      ]
     },
     "metadata": {},
     "output_type": "display_data"
    },
    {
     "name": "stdout",
     "output_type": "stream",
     "text": [
      "start to eval\n"
     ]
    },
    {
     "data": {
      "application/vnd.jupyter.widget-view+json": {
       "model_id": "15c55823c49049ec926c330f124fb966",
       "version_major": 2,
       "version_minor": 0
      },
      "text/plain": [
       "Epoch 16/50:   0%|          | 0/49 [00:00<?, ?batch/s]"
      ]
     },
     "metadata": {},
     "output_type": "display_data"
    },
    {
     "name": "stdout",
     "output_type": "stream",
     "text": [
      "start to eval\n"
     ]
    },
    {
     "data": {
      "application/vnd.jupyter.widget-view+json": {
       "model_id": "14d87ce5bd6246fa870fb14f290942b5",
       "version_major": 2,
       "version_minor": 0
      },
      "text/plain": [
       "Epoch 17/50:   0%|          | 0/49 [00:00<?, ?batch/s]"
      ]
     },
     "metadata": {},
     "output_type": "display_data"
    },
    {
     "name": "stdout",
     "output_type": "stream",
     "text": [
      "start to eval\n"
     ]
    },
    {
     "data": {
      "application/vnd.jupyter.widget-view+json": {
       "model_id": "be2b9218f0964f8fbb475506cf6a5a03",
       "version_major": 2,
       "version_minor": 0
      },
      "text/plain": [
       "Epoch 18/50:   0%|          | 0/49 [00:00<?, ?batch/s]"
      ]
     },
     "metadata": {},
     "output_type": "display_data"
    },
    {
     "name": "stdout",
     "output_type": "stream",
     "text": [
      "start to eval\n"
     ]
    },
    {
     "data": {
      "application/vnd.jupyter.widget-view+json": {
       "model_id": "5b15870dc7834996a06cf1beeb0c7a87",
       "version_major": 2,
       "version_minor": 0
      },
      "text/plain": [
       "Epoch 19/50:   0%|          | 0/49 [00:00<?, ?batch/s]"
      ]
     },
     "metadata": {},
     "output_type": "display_data"
    },
    {
     "name": "stdout",
     "output_type": "stream",
     "text": [
      "start to eval\n"
     ]
    },
    {
     "data": {
      "application/vnd.jupyter.widget-view+json": {
       "model_id": "f8b969b8ce6c404e85d1e4a2763fa266",
       "version_major": 2,
       "version_minor": 0
      },
      "text/plain": [
       "Epoch 20/50:   0%|          | 0/49 [00:00<?, ?batch/s]"
      ]
     },
     "metadata": {},
     "output_type": "display_data"
    },
    {
     "name": "stdout",
     "output_type": "stream",
     "text": [
      "start to eval\n"
     ]
    },
    {
     "data": {
      "application/vnd.jupyter.widget-view+json": {
       "model_id": "5cf3d812d80a4d02b183599dab73fadf",
       "version_major": 2,
       "version_minor": 0
      },
      "text/plain": [
       "Epoch 21/50:   0%|          | 0/49 [00:00<?, ?batch/s]"
      ]
     },
     "metadata": {},
     "output_type": "display_data"
    },
    {
     "name": "stdout",
     "output_type": "stream",
     "text": [
      "start to eval\n"
     ]
    },
    {
     "data": {
      "application/vnd.jupyter.widget-view+json": {
       "model_id": "a3db2f9bf4894105a3f87eef806bee6d",
       "version_major": 2,
       "version_minor": 0
      },
      "text/plain": [
       "Epoch 22/50:   0%|          | 0/49 [00:00<?, ?batch/s]"
      ]
     },
     "metadata": {},
     "output_type": "display_data"
    },
    {
     "name": "stdout",
     "output_type": "stream",
     "text": [
      "start to eval\n"
     ]
    },
    {
     "data": {
      "application/vnd.jupyter.widget-view+json": {
       "model_id": "7a9fe7464b554ac88459c6d1310316f1",
       "version_major": 2,
       "version_minor": 0
      },
      "text/plain": [
       "Epoch 23/50:   0%|          | 0/49 [00:00<?, ?batch/s]"
      ]
     },
     "metadata": {},
     "output_type": "display_data"
    },
    {
     "name": "stdout",
     "output_type": "stream",
     "text": [
      "start to eval\n"
     ]
    },
    {
     "data": {
      "application/vnd.jupyter.widget-view+json": {
       "model_id": "980993fca4a94a778117d689d7ac886a",
       "version_major": 2,
       "version_minor": 0
      },
      "text/plain": [
       "Epoch 24/50:   0%|          | 0/49 [00:00<?, ?batch/s]"
      ]
     },
     "metadata": {},
     "output_type": "display_data"
    },
    {
     "name": "stdout",
     "output_type": "stream",
     "text": [
      "start to eval\n"
     ]
    },
    {
     "data": {
      "application/vnd.jupyter.widget-view+json": {
       "model_id": "b944b8e5578e45daa03d51bf095fb7eb",
       "version_major": 2,
       "version_minor": 0
      },
      "text/plain": [
       "Epoch 25/50:   0%|          | 0/49 [00:00<?, ?batch/s]"
      ]
     },
     "metadata": {},
     "output_type": "display_data"
    },
    {
     "name": "stdout",
     "output_type": "stream",
     "text": [
      "start to eval\n"
     ]
    },
    {
     "data": {
      "application/vnd.jupyter.widget-view+json": {
       "model_id": "fe301b00d2fd445d9ab31b6e8443c842",
       "version_major": 2,
       "version_minor": 0
      },
      "text/plain": [
       "Epoch 26/50:   0%|          | 0/49 [00:00<?, ?batch/s]"
      ]
     },
     "metadata": {},
     "output_type": "display_data"
    },
    {
     "name": "stdout",
     "output_type": "stream",
     "text": [
      "start to eval\n"
     ]
    },
    {
     "data": {
      "application/vnd.jupyter.widget-view+json": {
       "model_id": "f4b34d7e4b0340afadb4cd9c4d3724b5",
       "version_major": 2,
       "version_minor": 0
      },
      "text/plain": [
       "Epoch 27/50:   0%|          | 0/49 [00:00<?, ?batch/s]"
      ]
     },
     "metadata": {},
     "output_type": "display_data"
    },
    {
     "name": "stdout",
     "output_type": "stream",
     "text": [
      "start to eval\n"
     ]
    },
    {
     "data": {
      "application/vnd.jupyter.widget-view+json": {
       "model_id": "a56b752a65cd4a6883ce2ffa1e1907b6",
       "version_major": 2,
       "version_minor": 0
      },
      "text/plain": [
       "Epoch 28/50:   0%|          | 0/49 [00:00<?, ?batch/s]"
      ]
     },
     "metadata": {},
     "output_type": "display_data"
    },
    {
     "name": "stdout",
     "output_type": "stream",
     "text": [
      "start to eval\n"
     ]
    },
    {
     "data": {
      "application/vnd.jupyter.widget-view+json": {
       "model_id": "aa0afe505df2458fa82277eb35a5fb41",
       "version_major": 2,
       "version_minor": 0
      },
      "text/plain": [
       "Epoch 29/50:   0%|          | 0/49 [00:00<?, ?batch/s]"
      ]
     },
     "metadata": {},
     "output_type": "display_data"
    },
    {
     "name": "stdout",
     "output_type": "stream",
     "text": [
      "start to eval\n",
      "Early stopping at epoch 28!\n"
     ]
    }
   ],
   "source": [
    "#设置设备，选择cuda\n",
    "device = 'cuda' if torch.cuda.is_available() else 'cpu'\n",
    "print('cuda' if torch.cuda.is_available() else 'cpu')\n",
    "data_folder_path = '../data/FAZ/Domain1/train/imgs'\n",
    "mask_folder_path = '../data/FAZ/Domain1/train/mask'\n",
    "\n",
    "data_files = os.listdir(data_folder_path)\n",
    "mask_files= os.listdir(mask_folder_path)\n",
    "\n",
    "\n",
    "dataset = MyDataset(data_file=data_files,mask_files=mask_files,data_folder_path=data_folder_path,mask_folder_path=mask_folder_path)\n",
    "weight_path='params/unet.pth'\n",
    "#data_path=r'data'\n",
    "model = UNet().to(device)\n",
    "\n",
    "train_dataset, valid_dataset = random_split(dataset=dataset, lengths=[195, 49], generator=torch.Generator().manual_seed(0))\n",
    "train_loader = DataLoader(train_dataset,batch_size=4,shuffle=True)\n",
    "valid_loader = DataLoader(valid_dataset,batch_size=4,shuffle=True)\n",
    "\n",
    "train_loader_length = len(train_loader)\n",
    "\n",
    "opt = optim.Adam(model.parameters())\n",
    "loss_fun = nn.BCELoss()\n",
    "all_epoch = 50 # 设置了早停策略暂时不care\n",
    "\n",
    "lossArr = []\n",
    "dicelist = []\n",
    "jclist = []\n",
    "hd95list = []\n",
    "assdlist = []\n",
    "splist = []\n",
    "recalllist = []\n",
    "prelist = []\n",
    "\n",
    "best_score = 0  # 用于保存最好的性能指标值\n",
    "patience = 6  # 容忍的 epoch 数，即连续多少个 epoch 没有改进就停止训练\n",
    "counter = 0  # 计数器，记录连续 epoch 未改进的次数\n",
    "\n",
    "dropcount = 0 # 连降计数器  记录连续 epoch 改进的次数\n",
    "drop_praise = 4 # 连降超过三次即使超过patience 豁免停止训练\n",
    "last_score = 99 # \n",
    "\n",
    "prev_dice = 0\n",
    "print(\"model starts training\\n\")\n",
    "for current_epoch in range(all_epoch):\n",
    "    model.train()\n",
    "    lossItem = 0\n",
    "    with tqdm(total=train_loader_length, desc=f'Epoch {current_epoch + 1}/{all_epoch}', unit='batch') as pbar:\n",
    "        for idx, (image,segment_image) in enumerate(train_loader):\n",
    "            image = image.to(device)\n",
    "            segment_image = segment_image.to(device)\n",
    "            opt.zero_grad()\n",
    "            output_img = model(image)\n",
    "            train_loss = loss_fun(output_img, segment_image)\n",
    "            train_loss.backward()\n",
    "            opt.step()\n",
    "            lossItem = lossItem + train_loss.item()\n",
    "             # 更新进度条\n",
    "            \n",
    "            pbar.update(1)  # 更新进度条\n",
    "       \n",
    "        print(\"start to eval\")\n",
    "\n",
    "        model.eval()\n",
    "        [valid_loss,all_dc,all_jc,all_hd,all_assd,all_sp,all_recall,all_pre] = [0,0,0,0,0,0,0,0]\n",
    "        datalen = len(valid_dataset)\n",
    "        for idx,(valid_img,valid_seg_img) in enumerate(valid_loader):\n",
    "            valid_img = valid_img.to(device)\n",
    "            valid_seg_img = valid_seg_img.to(device)\n",
    "            with torch.no_grad():\n",
    "                valid_output = model(valid_img)\n",
    "            for pred,target in zip(valid_output,valid_seg_img):\n",
    "                dice,jaccard,hd95_score,assd_score,sp_score,recall_score,pre_score = calculate_metrics(pred,target)\n",
    "                all_dc += dice/datalen\n",
    "                all_jc += jaccard/datalen\n",
    "                all_hd += hd95_score/datalen\n",
    "                all_assd += assd_score/datalen\n",
    "                all_sp += sp_score/datalen\n",
    "                all_recall += recall_score/datalen\n",
    "                all_pre += pre_score/datalen\n",
    "                valid_loss += loss_fun(valid_output,valid_seg_img)\n",
    "    \n",
    "        \n",
    "        current_score = valid_loss\n",
    "        \n",
    "        pbar.set_postfix({'Train_Loss': lossItem,'Valid_Loss':valid_loss})  # 更新进度条显示的信息\n",
    "        \n",
    "        if best_score > current_score:\n",
    "            best_score = current_score\n",
    "            # 重置计数器\n",
    "            counter = 0  \n",
    "            # 保存当前最佳模型权重\n",
    "            torch.save(model.state_dict(), weight_path)\n",
    "        else:\n",
    "            counter += 1\n",
    "            if current_score < last_score:\n",
    "                dropcount += 1\n",
    "                if dropcount >=3:\n",
    "                    counter,dropcount = 0,0 \n",
    "            else:\n",
    "                dropcount = 0\n",
    "            \n",
    "            if counter >= patience and current_epoch>20:\n",
    "                print(f\"Early stopping at epoch {current_epoch}!\")\n",
    "                break  # 停止训练\n",
    "                \n",
    "        last_score = valid_loss\n",
    "   \n",
    "        \n",
    "        lossArr.append(lossItem)\n",
    "        dicelist.append(all_dc)\n",
    "        jclist.append(all_jc)\n",
    "        hd95list.append(all_hd)\n",
    "        assdlist.append(all_assd)\n",
    "        splist.append(all_sp)\n",
    "        recalllist.append(all_recall)\n",
    "        prelist.append(all_pre)\n",
    "        \n",
    "transposed_lists = zip(lossArr, dicelist, jclist, hd95list, assdlist, splist, recalllist, prelist)\n",
    "\n",
    "with open('output.csv', 'w', newline='') as file:\n",
    "    writer = csv.writer(file)\n",
    "    writer.writerow(['epoch', 'lossArr', 'dicelist', 'jclist', 'hd95list', 'assdlist', 'splist', 'recalllist', 'prelist'])\n",
    "\n",
    "    for epoch, row in enumerate(zip(lossArr, dicelist, jclist, hd95list, assdlist, splist, recalllist, prelist)):\n",
    "        writer.writerow([epoch, *row])"
   ]
  },
  {
   "cell_type": "code",
   "execution_count": null,
   "id": "74208815-768a-427e-940a-241c6db7398c",
   "metadata": {},
   "outputs": [],
   "source": []
  }
 ],
 "metadata": {
  "kernelspec": {
   "display_name": "Python 3 (ipykernel)",
   "language": "python",
   "name": "python3"
  },
  "language_info": {
   "codemirror_mode": {
    "name": "ipython",
    "version": 3
   },
   "file_extension": ".py",
   "mimetype": "text/x-python",
   "name": "python",
   "nbconvert_exporter": "python",
   "pygments_lexer": "ipython3",
   "version": "3.8.18"
  }
 },
 "nbformat": 4,
 "nbformat_minor": 5
}
